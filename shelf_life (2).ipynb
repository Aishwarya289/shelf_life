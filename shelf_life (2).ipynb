{
 "cells": [
  {
   "cell_type": "markdown",
   "id": "2447c506",
   "metadata": {},
   "source": [
    "# Performing LinearRegression to predict Shelf Life of Apple Fruit"
   ]
  },
  {
   "cell_type": "code",
   "execution_count": null,
   "id": "6c277b61",
   "metadata": {},
   "outputs": [],
   "source": [
    "# import numpy for creating arrays\n",
    "# import sklearn's LinearRegression class \n",
    "\n",
    "import numpy as np\n",
    "from sklearn.linear_model import LinearRegression\n"
   ]
  },
  {
   "cell_type": "code",
   "execution_count": null,
   "id": "1f9c6e68",
   "metadata": {},
   "outputs": [],
   "source": [
    "#import pandas\n",
    "import pandas as pd"
   ]
  },
  {
   "cell_type": "code",
   "execution_count": 14,
   "id": "0f916ba7",
   "metadata": {},
   "outputs": [
    {
     "data": {
      "text/html": [
       "<div>\n",
       "<style scoped>\n",
       "    .dataframe tbody tr th:only-of-type {\n",
       "        vertical-align: middle;\n",
       "    }\n",
       "\n",
       "    .dataframe tbody tr th {\n",
       "        vertical-align: top;\n",
       "    }\n",
       "\n",
       "    .dataframe thead th {\n",
       "        text-align: right;\n",
       "    }\n",
       "</style>\n",
       "<table border=\"1\" class=\"dataframe\">\n",
       "  <thead>\n",
       "    <tr style=\"text-align: right;\">\n",
       "      <th></th>\n",
       "      <th>Day</th>\n",
       "      <th>Level</th>\n",
       "      <th>Color</th>\n",
       "    </tr>\n",
       "  </thead>\n",
       "  <tbody>\n",
       "    <tr>\n",
       "      <th>0</th>\n",
       "      <td>day1</td>\n",
       "      <td>1</td>\n",
       "      <td>44.101</td>\n",
       "    </tr>\n",
       "    <tr>\n",
       "      <th>1</th>\n",
       "      <td>day1</td>\n",
       "      <td>1</td>\n",
       "      <td>45.893</td>\n",
       "    </tr>\n",
       "    <tr>\n",
       "      <th>2</th>\n",
       "      <td>day1</td>\n",
       "      <td>1</td>\n",
       "      <td>44.355</td>\n",
       "    </tr>\n",
       "    <tr>\n",
       "      <th>3</th>\n",
       "      <td>day1</td>\n",
       "      <td>1</td>\n",
       "      <td>43.893</td>\n",
       "    </tr>\n",
       "    <tr>\n",
       "      <th>4</th>\n",
       "      <td>day1</td>\n",
       "      <td>1</td>\n",
       "      <td>40.779</td>\n",
       "    </tr>\n",
       "    <tr>\n",
       "      <th>5</th>\n",
       "      <td>day2</td>\n",
       "      <td>2</td>\n",
       "      <td>35.746</td>\n",
       "    </tr>\n",
       "    <tr>\n",
       "      <th>6</th>\n",
       "      <td>day2</td>\n",
       "      <td>2</td>\n",
       "      <td>36.064</td>\n",
       "    </tr>\n",
       "    <tr>\n",
       "      <th>7</th>\n",
       "      <td>day2</td>\n",
       "      <td>2</td>\n",
       "      <td>38.119</td>\n",
       "    </tr>\n",
       "    <tr>\n",
       "      <th>8</th>\n",
       "      <td>day2</td>\n",
       "      <td>2</td>\n",
       "      <td>40.876</td>\n",
       "    </tr>\n",
       "    <tr>\n",
       "      <th>9</th>\n",
       "      <td>day2</td>\n",
       "      <td>2</td>\n",
       "      <td>40.838</td>\n",
       "    </tr>\n",
       "    <tr>\n",
       "      <th>10</th>\n",
       "      <td>day3</td>\n",
       "      <td>3</td>\n",
       "      <td>30.443</td>\n",
       "    </tr>\n",
       "    <tr>\n",
       "      <th>11</th>\n",
       "      <td>day3</td>\n",
       "      <td>3</td>\n",
       "      <td>31.861</td>\n",
       "    </tr>\n",
       "    <tr>\n",
       "      <th>12</th>\n",
       "      <td>day3</td>\n",
       "      <td>3</td>\n",
       "      <td>32.777</td>\n",
       "    </tr>\n",
       "    <tr>\n",
       "      <th>13</th>\n",
       "      <td>day3</td>\n",
       "      <td>3</td>\n",
       "      <td>30.557</td>\n",
       "    </tr>\n",
       "    <tr>\n",
       "      <th>14</th>\n",
       "      <td>day3</td>\n",
       "      <td>3</td>\n",
       "      <td>32.321</td>\n",
       "    </tr>\n",
       "    <tr>\n",
       "      <th>15</th>\n",
       "      <td>day4</td>\n",
       "      <td>4</td>\n",
       "      <td>29.632</td>\n",
       "    </tr>\n",
       "    <tr>\n",
       "      <th>16</th>\n",
       "      <td>day4</td>\n",
       "      <td>4</td>\n",
       "      <td>28.384</td>\n",
       "    </tr>\n",
       "    <tr>\n",
       "      <th>17</th>\n",
       "      <td>day4</td>\n",
       "      <td>4</td>\n",
       "      <td>28.272</td>\n",
       "    </tr>\n",
       "    <tr>\n",
       "      <th>18</th>\n",
       "      <td>day4</td>\n",
       "      <td>4</td>\n",
       "      <td>27.485</td>\n",
       "    </tr>\n",
       "    <tr>\n",
       "      <th>19</th>\n",
       "      <td>day4</td>\n",
       "      <td>4</td>\n",
       "      <td>29.294</td>\n",
       "    </tr>\n",
       "    <tr>\n",
       "      <th>20</th>\n",
       "      <td>day5</td>\n",
       "      <td>5</td>\n",
       "      <td>20.722</td>\n",
       "    </tr>\n",
       "    <tr>\n",
       "      <th>21</th>\n",
       "      <td>day5</td>\n",
       "      <td>5</td>\n",
       "      <td>21.014</td>\n",
       "    </tr>\n",
       "    <tr>\n",
       "      <th>22</th>\n",
       "      <td>day5</td>\n",
       "      <td>5</td>\n",
       "      <td>19.228</td>\n",
       "    </tr>\n",
       "    <tr>\n",
       "      <th>23</th>\n",
       "      <td>day5</td>\n",
       "      <td>5</td>\n",
       "      <td>19.293</td>\n",
       "    </tr>\n",
       "    <tr>\n",
       "      <th>24</th>\n",
       "      <td>day5</td>\n",
       "      <td>5</td>\n",
       "      <td>20.734</td>\n",
       "    </tr>\n",
       "  </tbody>\n",
       "</table>\n",
       "</div>"
      ],
      "text/plain": [
       "     Day  Level   Color\n",
       "0   day1      1  44.101\n",
       "1   day1      1  45.893\n",
       "2   day1      1  44.355\n",
       "3   day1      1  43.893\n",
       "4   day1      1  40.779\n",
       "5   day2      2  35.746\n",
       "6   day2      2  36.064\n",
       "7   day2      2  38.119\n",
       "8   day2      2  40.876\n",
       "9   day2      2  40.838\n",
       "10  day3      3  30.443\n",
       "11  day3      3  31.861\n",
       "12  day3      3  32.777\n",
       "13  day3      3  30.557\n",
       "14  day3      3  32.321\n",
       "15  day4      4  29.632\n",
       "16  day4      4  28.384\n",
       "17  day4      4  28.272\n",
       "18  day4      4  27.485\n",
       "19  day4      4  29.294\n",
       "20  day5      5  20.722\n",
       "21  day5      5  21.014\n",
       "22  day5      5  19.228\n",
       "23  day5      5  19.293\n",
       "24  day5      5  20.734"
      ]
     },
     "execution_count": 14,
     "metadata": {},
     "output_type": "execute_result"
    }
   ],
   "source": [
    "df=pd.read_csv('shelf.csv')\n",
    "df"
   ]
  },
  {
   "cell_type": "code",
   "execution_count": 26,
   "id": "0746b12a",
   "metadata": {},
   "outputs": [],
   "source": [
    "x=df[['Color']]\n",
    "y=df['Level']"
   ]
  },
  {
   "cell_type": "code",
   "execution_count": 27,
   "id": "7c4c50dc",
   "metadata": {},
   "outputs": [
    {
     "data": {
      "text/plain": [
       "LinearRegression()"
      ]
     },
     "execution_count": 27,
     "metadata": {},
     "output_type": "execute_result"
    }
   ],
   "source": [
    "# create an object of the model of LinearRegression()\n",
    "model = LinearRegression()\n",
    "# fitting the model to x and y\n",
    "model.fit(x, y)"
   ]
  },
  {
   "cell_type": "code",
   "execution_count": 28,
   "id": "45a3ba1f",
   "metadata": {},
   "outputs": [
    {
     "name": "stdout",
     "output_type": "stream",
     "text": [
      "coefficient of determination: 0.9565342918916269\n"
     ]
    }
   ],
   "source": [
    "# Printing the performance of model in terms of r squared value\n",
    "r_sq = model.score(x, y)\n",
    "print('coefficient of determination:', r_sq)"
   ]
  },
  {
   "cell_type": "code",
   "execution_count": 29,
   "id": "1f55b061",
   "metadata": {},
   "outputs": [
    {
     "name": "stdout",
     "output_type": "stream",
     "text": [
      "intercept: 8.462114735091692\n",
      "slope: [-0.16802764]\n"
     ]
    }
   ],
   "source": [
    "# Printing intercept and slope calculated by the system\n",
    "print('intercept:', model.intercept_)\n",
    "print('slope:', model.coef_)\n"
   ]
  },
  {
   "cell_type": "code",
   "execution_count": 30,
   "id": "86308cc2",
   "metadata": {},
   "outputs": [
    {
     "name": "stdout",
     "output_type": "stream",
     "text": [
      "predicted response using builtin predict() function:\n",
      "[1.0519279  0.75082237 1.00924888 1.08687765 1.61011571 2.45579881\n",
      " 2.40236602 2.05706923 1.59381703 1.60020208 3.34684937 3.10858618\n",
      " 2.95467286 3.32769422 3.03129347 3.48311978 3.69281828 3.71163737\n",
      " 3.84387512 3.53991313 4.98024603 4.93118196 5.23127932 5.22035753\n",
      " 4.9782297 ]\n"
     ]
    }
   ],
   "source": [
    "# Response predicted using internal predict() function\n",
    "y_pred = model.predict(x)\n",
    "print('predicted response using builtin predict() function:', y_pred, sep='\\n')\n"
   ]
  },
  {
   "cell_type": "code",
   "execution_count": 31,
   "id": "278260b1",
   "metadata": {},
   "outputs": [
    {
     "name": "stdout",
     "output_type": "stream",
     "text": [
      "predicted response using manual calculation on intercept and coefficients:\n",
      "       Color\n",
      "0   1.051928\n",
      "1   0.750822\n",
      "2   1.009249\n",
      "3   1.086878\n",
      "4   1.610116\n",
      "5   2.455799\n",
      "6   2.402366\n",
      "7   2.057069\n",
      "8   1.593817\n",
      "9   1.600202\n",
      "10  3.346849\n",
      "11  3.108586\n",
      "12  2.954673\n",
      "13  3.327694\n",
      "14  3.031293\n",
      "15  3.483120\n",
      "16  3.692818\n",
      "17  3.711637\n",
      "18  3.843875\n",
      "19  3.539913\n",
      "20  4.980246\n",
      "21  4.931182\n",
      "22  5.231279\n",
      "23  5.220358\n",
      "24  4.978230\n"
     ]
    }
   ],
   "source": [
    "#Response predicted using manual calculation on intercept and coefficient\n",
    "y_pred = model.intercept_ + model.coef_ * x\n",
    "print('predicted response using manual calculation on intercept and coefficients:', y_pred, sep='\\n')\n"
   ]
  },
  {
   "cell_type": "code",
   "execution_count": 32,
   "id": "78d9e791",
   "metadata": {},
   "outputs": [
    {
     "data": {
      "text/plain": [
       "LinearRegression()"
      ]
     },
     "execution_count": 32,
     "metadata": {},
     "output_type": "execute_result"
    }
   ],
   "source": [
    "from sklearn.preprocessing import PolynomialFeatures\n",
    "poly_reg = PolynomialFeatures(degree = 7)\n",
    "X_poly = poly_reg.fit_transform(x)\n",
    "lin_reg_2 = LinearRegression()\n",
    "lin_reg_2.fit(X_poly, y)"
   ]
  },
  {
   "cell_type": "code",
   "execution_count": 35,
   "id": "a515aa26",
   "metadata": {},
   "outputs": [
    {
     "data": {
      "image/png": "[encoded data removed]",
      "text/plain": [
       "<Figure size 432x288 with 1 Axes>"
      ]
     },
     "metadata": {
      "needs_background": "light"
     },
     "output_type": "display_data"
    }
   ],
   "source": [
    "# Visualising the Linear Regression results\n",
    "import matplotlib.pyplot as plt\n",
    "plt.scatter(x, y, color = 'red')\n",
    "plt.plot(x, model.predict(x), color = 'blue')\n",
    "plt.title(' Linear Regression')\n",
    "plt.xlabel('Color')\n",
    "plt.ylabel('Level')\n",
    "plt.show()"
   ]
  },
  {
   "cell_type": "markdown",
   "id": "f574d000",
   "metadata": {},
   "source": [
    "As we are getting the value predicted by system and by manual calculation same our prediction is right and through the graph we can see that as the level(days) increases the color decreases through which we can predict that the shelf life is reducing with increase in days"
   ]
  },
  {
   "cell_type": "code",
   "execution_count": null,
   "id": "0bb7a9c3",
   "metadata": {},
   "outputs": [],
   "source": []
  }
 ],
 "metadata": {
  "kernelspec": {
   "display_name": "Python 3",
   "language": "python",
   "name": "python3"
  },
  "language_info": {
   "codemirror_mode": {
    "name": "ipython",
    "version": 3
   },
   "file_extension": ".py",
   "mimetype": "text/x-python",
   "name": "python",
   "nbconvert_exporter": "python",
   "pygments_lexer": "ipython3",
   "version": "3.8.8"
  }
 },
 "nbformat": 4,
 "nbformat_minor": 5
}
