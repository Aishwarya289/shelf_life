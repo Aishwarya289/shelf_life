{
 "cells": [
  {
   "cell_type": "markdown",
   "id": "67ea4aa4",
   "metadata": {},
   "source": [
    "# Performing LinearRegression to predict Shelf Life of Apple Fruit"
   ]
  },
  {
   "cell_type": "code",
   "execution_count": null,
   "id": "92477030",
   "metadata": {},
   "outputs": [],
   "source": [
    "# import numpy for creating arrays\n",
    "# import sklearn's LinearRegression class \n",
    "\n",
    "import numpy as np\n",
    "from sklearn.linear_model import LinearRegression\n"
   ]
  },
  {
   "cell_type": "code",
   "execution_count": null,
   "id": "a67a673d",
   "metadata": {},
   "outputs": [],
   "source": [
    "#import pandas\n",
    "import pandas as pd"
   ]
  },
  {
   "cell_type": "code",
   "execution_count": 14,
   "id": "4d24c746",
   "metadata": {},
   "outputs": [
    {
     "data": {
      "text/html": [
       "<div>\n",
       "<style scoped>\n",
       "    .dataframe tbody tr th:only-of-type {\n",
       "        vertical-align: middle;\n",
       "    }\n",
       "\n",
       "    .dataframe tbody tr th {\n",
       "        vertical-align: top;\n",
       "    }\n",
       "\n",
       "    .dataframe thead th {\n",
       "        text-align: right;\n",
       "    }\n",
       "</style>\n",
       "<table border=\"1\" class=\"dataframe\">\n",
       "  <thead>\n",
       "    <tr style=\"text-align: right;\">\n",
       "      <th></th>\n",
       "      <th>Day</th>\n",
       "      <th>Level</th>\n",
       "      <th>Color</th>\n",
       "    </tr>\n",
       "  </thead>\n",
       "  <tbody>\n",
       "    <tr>\n",
       "      <th>0</th>\n",
       "      <td>day1</td>\n",
       "      <td>1</td>\n",
       "      <td>44.101</td>\n",
       "    </tr>\n",
       "    <tr>\n",
       "      <th>1</th>\n",
       "      <td>day1</td>\n",
       "      <td>1</td>\n",
       "      <td>45.893</td>\n",
       "    </tr>\n",
       "    <tr>\n",
       "      <th>2</th>\n",
       "      <td>day1</td>\n",
       "      <td>1</td>\n",
       "      <td>44.355</td>\n",
       "    </tr>\n",
       "    <tr>\n",
       "      <th>3</th>\n",
       "      <td>day1</td>\n",
       "      <td>1</td>\n",
       "      <td>43.893</td>\n",
       "    </tr>\n",
       "    <tr>\n",
       "      <th>4</th>\n",
       "      <td>day1</td>\n",
       "      <td>1</td>\n",
       "      <td>40.779</td>\n",
       "    </tr>\n",
       "    <tr>\n",
       "      <th>5</th>\n",
       "      <td>day2</td>\n",
       "      <td>2</td>\n",
       "      <td>35.746</td>\n",
       "    </tr>\n",
       "    <tr>\n",
       "      <th>6</th>\n",
       "      <td>day2</td>\n",
       "      <td>2</td>\n",
       "      <td>36.064</td>\n",
       "    </tr>\n",
       "    <tr>\n",
       "      <th>7</th>\n",
       "      <td>day2</td>\n",
       "      <td>2</td>\n",
       "      <td>38.119</td>\n",
       "    </tr>\n",
       "    <tr>\n",
       "      <th>8</th>\n",
       "      <td>day2</td>\n",
       "      <td>2</td>\n",
       "      <td>40.876</td>\n",
       "    </tr>\n",
       "    <tr>\n",
       "      <th>9</th>\n",
       "      <td>day2</td>\n",
       "      <td>2</td>\n",
       "      <td>40.838</td>\n",
       "    </tr>\n",
       "    <tr>\n",
       "      <th>10</th>\n",
       "      <td>day3</td>\n",
       "      <td>3</td>\n",
       "      <td>30.443</td>\n",
       "    </tr>\n",
       "    <tr>\n",
       "      <th>11</th>\n",
       "      <td>day3</td>\n",
       "      <td>3</td>\n",
       "      <td>31.861</td>\n",
       "    </tr>\n",
       "    <tr>\n",
       "      <th>12</th>\n",
       "      <td>day3</td>\n",
       "      <td>3</td>\n",
       "      <td>32.777</td>\n",
       "    </tr>\n",
       "    <tr>\n",
       "      <th>13</th>\n",
       "      <td>day3</td>\n",
       "      <td>3</td>\n",
       "      <td>30.557</td>\n",
       "    </tr>\n",
       "    <tr>\n",
       "      <th>14</th>\n",
       "      <td>day3</td>\n",
       "      <td>3</td>\n",
       "      <td>32.321</td>\n",
       "    </tr>\n",
       "    <tr>\n",
       "      <th>15</th>\n",
       "      <td>day4</td>\n",
       "      <td>4</td>\n",
       "      <td>29.632</td>\n",
       "    </tr>\n",
       "    <tr>\n",
       "      <th>16</th>\n",
       "      <td>day4</td>\n",
       "      <td>4</td>\n",
       "      <td>28.384</td>\n",
       "    </tr>\n",
       "    <tr>\n",
       "      <th>17</th>\n",
       "      <td>day4</td>\n",
       "      <td>4</td>\n",
       "      <td>28.272</td>\n",
       "    </tr>\n",
       "    <tr>\n",
       "      <th>18</th>\n",
       "      <td>day4</td>\n",
       "      <td>4</td>\n",
       "      <td>27.485</td>\n",
       "    </tr>\n",
       "    <tr>\n",
       "      <th>19</th>\n",
       "      <td>day4</td>\n",
       "      <td>4</td>\n",
       "      <td>29.294</td>\n",
       "    </tr>\n",
       "    <tr>\n",
       "      <th>20</th>\n",
       "      <td>day5</td>\n",
       "      <td>5</td>\n",
       "      <td>20.722</td>\n",
       "    </tr>\n",
       "    <tr>\n",
       "      <th>21</th>\n",
       "      <td>day5</td>\n",
       "      <td>5</td>\n",
       "      <td>21.014</td>\n",
       "    </tr>\n",
       "    <tr>\n",
       "      <th>22</th>\n",
       "      <td>day5</td>\n",
       "      <td>5</td>\n",
       "      <td>19.228</td>\n",
       "    </tr>\n",
       "    <tr>\n",
       "      <th>23</th>\n",
       "      <td>day5</td>\n",
       "      <td>5</td>\n",
       "      <td>19.293</td>\n",
       "    </tr>\n",
       "    <tr>\n",
       "      <th>24</th>\n",
       "      <td>day5</td>\n",
       "      <td>5</td>\n",
       "      <td>20.734</td>\n",
       "    </tr>\n",
       "  </tbody>\n",
       "</table>\n",
       "</div>"
      ],
      "text/plain": [
       "     Day  Level   Color\n",
       "0   day1      1  44.101\n",
       "1   day1      1  45.893\n",
       "2   day1      1  44.355\n",
       "3   day1      1  43.893\n",
       "4   day1      1  40.779\n",
       "5   day2      2  35.746\n",
       "6   day2      2  36.064\n",
       "7   day2      2  38.119\n",
       "8   day2      2  40.876\n",
       "9   day2      2  40.838\n",
       "10  day3      3  30.443\n",
       "11  day3      3  31.861\n",
       "12  day3      3  32.777\n",
       "13  day3      3  30.557\n",
       "14  day3      3  32.321\n",
       "15  day4      4  29.632\n",
       "16  day4      4  28.384\n",
       "17  day4      4  28.272\n",
       "18  day4      4  27.485\n",
       "19  day4      4  29.294\n",
       "20  day5      5  20.722\n",
       "21  day5      5  21.014\n",
       "22  day5      5  19.228\n",
       "23  day5      5  19.293\n",
       "24  day5      5  20.734"
      ]
     },
     "execution_count": 14,
     "metadata": {},
     "output_type": "execute_result"
    }
   ],
   "source": [
    "df=pd.read_csv('shelf.csv')\n",
    "df"
   ]
  },
  {
   "cell_type": "code",
   "execution_count": 7,
   "id": "21aa2c06",
   "metadata": {},
   "outputs": [],
   "source": [
    "x=df[['Level']]\n",
    "y=df['Color']"
   ]
  },
  {
   "cell_type": "code",
   "execution_count": 8,
   "id": "8692b56b",
   "metadata": {},
   "outputs": [
    {
     "data": {
      "text/plain": [
       "LinearRegression()"
      ]
     },
     "execution_count": 8,
     "metadata": {},
     "output_type": "execute_result"
    }
   ],
   "source": [
    "# create an object of the model of LinearRegression()\n",
    "model = LinearRegression()\n",
    "# fitting the model to x and y\n",
    "model.fit(x, y)"
   ]
  },
  {
   "cell_type": "code",
   "execution_count": 10,
   "id": "dbeca5ca",
   "metadata": {},
   "outputs": [
    {
     "name": "stdout",
     "output_type": "stream",
     "text": [
      "coefficient of determination: 0.9565342918916269\n"
     ]
    }
   ],
   "source": [
    "# Printing the performance of model in terms of r squared value\n",
    "r_sq = model.score(x, y)\n",
    "print('coefficient of determination:', r_sq)"
   ]
  },
  {
   "cell_type": "code",
   "execution_count": 11,
   "id": "ed60f5e9",
   "metadata": {},
   "outputs": [
    {
     "name": "stdout",
     "output_type": "stream",
     "text": [
      "intercept: 49.5854\n",
      "slope: [-5.69272]\n"
     ]
    }
   ],
   "source": [
    "# Printing intercept and slope calculated by the system\n",
    "print('intercept:', model.intercept_)\n",
    "print('slope:', model.coef_)\n"
   ]
  },
  {
   "cell_type": "code",
   "execution_count": 12,
   "id": "3f130026",
   "metadata": {},
   "outputs": [
    {
     "name": "stdout",
     "output_type": "stream",
     "text": [
      "predicted response using builtin predict() function:\n",
      "[43.89268 43.89268 43.89268 43.89268 43.89268 38.19996 38.19996 38.19996\n",
      " 38.19996 38.19996 32.50724 32.50724 32.50724 32.50724 32.50724 26.81452\n",
      " 26.81452 26.81452 26.81452 26.81452 21.1218  21.1218  21.1218  21.1218\n",
      " 21.1218 ]\n"
     ]
    }
   ],
   "source": [
    "# Response predicted using internal predict() function\n",
    "y_pred = model.predict(x)\n",
    "print('predicted response using builtin predict() function:', y_pred, sep='\\n')\n"
   ]
  },
  {
   "cell_type": "code",
   "execution_count": 13,
   "id": "9e3371f7",
   "metadata": {},
   "outputs": [
    {
     "name": "stdout",
     "output_type": "stream",
     "text": [
      "predicted response using manual calculation on intercept and coefficients:\n",
      "       Level\n",
      "0   43.89268\n",
      "1   43.89268\n",
      "2   43.89268\n",
      "3   43.89268\n",
      "4   43.89268\n",
      "5   38.19996\n",
      "6   38.19996\n",
      "7   38.19996\n",
      "8   38.19996\n",
      "9   38.19996\n",
      "10  32.50724\n",
      "11  32.50724\n",
      "12  32.50724\n",
      "13  32.50724\n",
      "14  32.50724\n",
      "15  26.81452\n",
      "16  26.81452\n",
      "17  26.81452\n",
      "18  26.81452\n",
      "19  26.81452\n",
      "20  21.12180\n",
      "21  21.12180\n",
      "22  21.12180\n",
      "23  21.12180\n",
      "24  21.12180\n"
     ]
    }
   ],
   "source": [
    "#Response predicted using manual calculation on intercept and coefficient\n",
    "y_pred = model.intercept_ + model.coef_ * x\n",
    "print('predicted response using manual calculation on intercept and coefficients:', y_pred, sep='\\n')\n"
   ]
  },
  {
   "cell_type": "code",
   "execution_count": null,
   "id": "808e82d0",
   "metadata": {},
   "outputs": [],
   "source": [
    "#As we are getting the value predicted by system and by manual calculation our prediction is right"
   ]
  }
 ],
 "metadata": {
  "kernelspec": {
   "display_name": "Python 3",
   "language": "python",
   "name": "python3"
  },
  "language_info": {
   "codemirror_mode": {
    "name": "ipython",
    "version": 3
   },
   "file_extension": ".py",
   "mimetype": "text/x-python",
   "name": "python",
   "nbconvert_exporter": "python",
   "pygments_lexer": "ipython3",
   "version": "3.8.8"
  }
 },
 "nbformat": 4,
 "nbformat_minor": 5
}
